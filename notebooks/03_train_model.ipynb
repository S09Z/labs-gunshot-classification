{
 "cells": [
  {
   "cell_type": "code",
   "execution_count": 123,
   "id": "ac87291e",
   "metadata": {},
   "outputs": [],
   "source": [
    "import numpy as np\n",
    "import pandas as pd\n",
    "import seaborn as sns\n",
    "import matplotlib.pyplot as plt\n",
    "import plotly.express as px\n",
    "import tensorflow as tf\n",
    "from tensorflow import keras\n",
    "from keras import layers, models\n",
    "from keras.optimizers import Adam\n",
    "from keras.callbacks import EarlyStopping, ModelCheckpoint\n",
    "from sklearn.preprocessing import LabelEncoder\n",
    "from sklearn.utils.class_weight import compute_class_weight\n",
    "from sklearn.metrics import classification_report, confusion_matrix, precision_recall_fscore_support\n",
    "import os\n",
    "import json\n",
    "from pathlib import Path\n",
    "import librosa\n",
    "import scipy.signal\n",
    "from tqdm.notebook import tqdm"
   ]
  },
  {
   "cell_type": "code",
   "execution_count": 98,
   "id": "347aec18",
   "metadata": {},
   "outputs": [],
   "source": [
    "FEATURES_DIR = Path(\"../features\")\n",
    "\n",
    "with open(FEATURES_DIR / \"labels.json\", \"r\") as f:\n",
    "    LABEL_MAP = json.load(f)\n",
    "LABEL_MAP = {k: int(v) for k, v in LABEL_MAP.items()}\n",
    "INV_LABEL_MAP = {v: k for k, v in LABEL_MAP.items()}"
   ]
  },
  {
   "cell_type": "code",
   "execution_count": 124,
   "id": "6e1d24f1",
   "metadata": {},
   "outputs": [],
   "source": [
    "class AudioAugmentation:\n",
    "    @staticmethod\n",
    "    def time_stretch(spectrogram, rate_range=(0.8, 1.2)):\n",
    "        rate = np.random.uniform(rate_range[0], rate_range[1])\n",
    "        stretched = tf.image.resize(spectrogram, \n",
    "                                  [spectrogram.shape[0], \n",
    "                                   int(spectrogram.shape[1] * rate)])\n",
    "        if stretched.shape[1] > spectrogram.shape[1]:\n",
    "            stretched = stretched[:, :spectrogram.shape[1], :]\n",
    "        elif stretched.shape[1] < spectrogram.shape[1]:\n",
    "            pad_width = spectrogram.shape[1] - stretched.shape[1]\n",
    "            stretched = tf.pad(stretched, [[0, 0], [0, pad_width], [0, 0]])\n",
    "        return stretched\n",
    "\n",
    "    @staticmethod\n",
    "    def frequency_mask(spectrogram, freq_mask_param=15):\n",
    "        freq_mask = np.random.randint(0, freq_mask_param)\n",
    "        f0 = np.random.randint(0, spectrogram.shape[0] - freq_mask)\n",
    "        masked = spectrogram.numpy().copy()\n",
    "        masked[f0:f0+freq_mask, :, :] = 0\n",
    "        return tf.constant(masked)\n",
    "\n",
    "    @staticmethod\n",
    "    def time_mask(spectrogram, time_mask_param=35):\n",
    "        time_mask = np.random.randint(0, time_mask_param)\n",
    "        t0 = np.random.randint(0, spectrogram.shape[1] - time_mask)\n",
    "        masked = spectrogram.numpy().copy()\n",
    "        masked[:, t0:t0+time_mask, :] = 0\n",
    "        return tf.constant(masked)\n",
    "\n",
    "    @staticmethod\n",
    "    def add_noise(spectrogram, noise_factor=0.01):\n",
    "        noise = tf.random.normal(tf.shape(spectrogram), 0, noise_factor)\n",
    "        return spectrogram + noise\n",
    "\n",
    "    @staticmethod\n",
    "    def mixup(spec1, spec2, label1, label2, alpha=0.2):\n",
    "        lam = np.random.beta(alpha, alpha)\n",
    "        mixed_spec = lam * spec1 + (1 - lam) * spec2\n",
    "        return mixed_spec, lam * label1 + (1 - lam) * label2\n",
    "\n",
    "def augment_spectrogram(spectrogram, augment_prob=0.5):\n",
    "    if np.random.random() < augment_prob:\n",
    "        aug_choice = np.random.choice(['time_stretch', 'freq_mask', 'time_mask', 'noise'])\n",
    "        \n",
    "        if aug_choice == 'time_stretch':\n",
    "            return AudioAugmentation.time_stretch(spectrogram)\n",
    "        elif aug_choice == 'freq_mask':\n",
    "            return AudioAugmentation.frequency_mask(spectrogram)\n",
    "        elif aug_choice == 'time_mask':\n",
    "            return AudioAugmentation.time_mask(spectrogram)\n",
    "        elif aug_choice == 'noise':\n",
    "            return AudioAugmentation.add_noise(spectrogram)\n",
    "    \n",
    "    return spectrogram\n",
    "\n",
    "def load_feature_dir(dir_path: Path, target_shape=(64, 128, 1), apply_augmentation=False):\n",
    "    \"\"\"\n",
    "    Load .npy files and resize/pad to match target shape with progress bar\n",
    "    \"\"\"\n",
    "    features = []\n",
    "    labels = []\n",
    "\n",
    "    npy_files = list(dir_path.glob(\"*.npy\"))\n",
    "    print(f\"🔍 Found {len(npy_files)} .npy files in {dir_path}\")\n",
    "\n",
    "    # Add progress bar for file loading\n",
    "    for npy_file in tqdm(npy_files, desc=f\"Loading {dir_path.name} data\", unit=\"files\"):\n",
    "        try:\n",
    "            data = np.load(npy_file, allow_pickle=True).item()\n",
    "            x = data['features']\n",
    "            label = data['label']\n",
    "\n",
    "            if x.ndim == 2:\n",
    "                x = x[..., np.newaxis]\n",
    "\n",
    "            # 🧩 Resize or crop to match target shape\n",
    "            h, w, c = x.shape\n",
    "            th, tw, tc = target_shape\n",
    "\n",
    "            # Crop or pad height\n",
    "            if h < th:\n",
    "                pad_h = th - h\n",
    "                x = np.pad(x, ((0, pad_h), (0, 0), (0, 0)), mode='constant')\n",
    "            elif h > th:\n",
    "                x = x[:th, :, :]\n",
    "\n",
    "            # Crop or pad width\n",
    "            if w < tw:\n",
    "                pad_w = tw - w\n",
    "                x = np.pad(x, ((0, 0), (0, pad_w), (0, 0)), mode='constant')\n",
    "            elif w > tw:\n",
    "                x = x[:, :tw, :]\n",
    "\n",
    "            # Apply augmentation if enabled\n",
    "            if apply_augmentation:\n",
    "                x = augment_spectrogram(tf.constant(x, dtype=tf.float32)).numpy()\n",
    "\n",
    "            features.append(x)\n",
    "            labels.append(label)\n",
    "\n",
    "        except Exception as e:\n",
    "            print(f\"❌ Failed to load {npy_file.name}: {e}\")\n",
    "\n",
    "    X = np.stack(features)\n",
    "    return X, labels"
   ]
  },
  {
   "cell_type": "code",
   "execution_count": 125,
   "id": "ce76b279",
   "metadata": {},
   "outputs": [
    {
     "name": "stdout",
     "output_type": "stream",
     "text": [
      "🔍 Found 1536 .npy files in ../features/train\n"
     ]
    },
    {
     "data": {
      "application/vnd.jupyter.widget-view+json": {
       "model_id": "3145448b24554533b7936a60eeb1bec4",
       "version_major": 2,
       "version_minor": 0
      },
      "text/plain": [
       "Loading train data:   0%|          | 0/1536 [00:00<?, ?files/s]"
      ]
     },
     "metadata": {},
     "output_type": "display_data"
    },
    {
     "name": "stdout",
     "output_type": "stream",
     "text": [
      "✅ X_train type: <class 'numpy.ndarray'>, shape: (1536, 64, 421, 1)\n",
      "✅ y_train type: <class 'list'>, example: [30, 19, 33, 30, 13]\n",
      "🎵 Applied audio augmentation to training data\n"
     ]
    }
   ],
   "source": [
    "X_train, y_train_str = load_feature_dir(Path(f\"{FEATURES_DIR}/train\"), target_shape=(64, 421, 1), apply_augmentation=True)\n",
    "print(f\"✅ X_train type: {type(X_train)}, shape: {X_train.shape}\")\n",
    "print(f\"✅ y_train type: {type(y_train_str)}, example: {y_train_str[:5]}\")\n",
    "print(\"🎵 Applied audio augmentation to training data\")"
   ]
  },
  {
   "cell_type": "code",
   "execution_count": 126,
   "id": "8c4c3196",
   "metadata": {},
   "outputs": [
    {
     "data": {
      "application/vnd.plotly.v1+json": {
       "config": {
        "plotlyServerURL": "https://plot.ly"
       },
       "data": [
        {
         "hovertemplate": "Class=%{x}<br>Number of Samples=%{y}<extra></extra>",
         "legendgroup": "",
         "marker": {
          "color": "#636efa",
          "pattern": {
           "shape": ""
          }
         },
         "name": "",
         "orientation": "v",
         "showlegend": false,
         "textposition": "auto",
         "type": "bar",
         "x": {
          "bdata": "AA0LEB4kFx8BEx0YIAwGFSUWHAkUERICIRoIGQcPGw4iCiMEBQM=",
          "dtype": "i1"
         },
         "xaxis": "x",
         "y": {
          "bdata": "OQEcAQ8BNwAqABcAFgAVABQAFAAUABMAEwATABMAEwASABIAEgASABEAEQARABEAEQARABAAEAAQABAADwAPAA8ADwAOAA0ADQAMAA==",
          "dtype": "i2"
         },
         "yaxis": "y"
        }
       ],
       "layout": {
        "bargap": 0.2,
        "barmode": "relative",
        "legend": {
         "tracegroupgap": 0
        },
        "template": {
         "data": {
          "bar": [
           {
            "error_x": {
             "color": "#2a3f5f"
            },
            "error_y": {
             "color": "#2a3f5f"
            },
            "marker": {
             "line": {
              "color": "white",
              "width": 0.5
             },
             "pattern": {
              "fillmode": "overlay",
              "size": 10,
              "solidity": 0.2
             }
            },
            "type": "bar"
           }
          ],
          "barpolar": [
           {
            "marker": {
             "line": {
              "color": "white",
              "width": 0.5
             },
             "pattern": {
              "fillmode": "overlay",
              "size": 10,
              "solidity": 0.2
             }
            },
            "type": "barpolar"
           }
          ],
          "carpet": [
           {
            "aaxis": {
             "endlinecolor": "#2a3f5f",
             "gridcolor": "#C8D4E3",
             "linecolor": "#C8D4E3",
             "minorgridcolor": "#C8D4E3",
             "startlinecolor": "#2a3f5f"
            },
            "baxis": {
             "endlinecolor": "#2a3f5f",
             "gridcolor": "#C8D4E3",
             "linecolor": "#C8D4E3",
             "minorgridcolor": "#C8D4E3",
             "startlinecolor": "#2a3f5f"
            },
            "type": "carpet"
           }
          ],
          "choropleth": [
           {
            "colorbar": {
             "outlinewidth": 0,
             "ticks": ""
            },
            "type": "choropleth"
           }
          ],
          "contour": [
           {
            "colorbar": {
             "outlinewidth": 0,
             "ticks": ""
            },
            "colorscale": [
             [
              0,
              "#0d0887"
             ],
             [
              0.1111111111111111,
              "#46039f"
             ],
             [
              0.2222222222222222,
              "#7201a8"
             ],
             [
              0.3333333333333333,
              "#9c179e"
             ],
             [
              0.4444444444444444,
              "#bd3786"
             ],
             [
              0.5555555555555556,
              "#d8576b"
             ],
             [
              0.6666666666666666,
              "#ed7953"
             ],
             [
              0.7777777777777778,
              "#fb9f3a"
             ],
             [
              0.8888888888888888,
              "#fdca26"
             ],
             [
              1,
              "#f0f921"
             ]
            ],
            "type": "contour"
           }
          ],
          "contourcarpet": [
           {
            "colorbar": {
             "outlinewidth": 0,
             "ticks": ""
            },
            "type": "contourcarpet"
           }
          ],
          "heatmap": [
           {
            "colorbar": {
             "outlinewidth": 0,
             "ticks": ""
            },
            "colorscale": [
             [
              0,
              "#0d0887"
             ],
             [
              0.1111111111111111,
              "#46039f"
             ],
             [
              0.2222222222222222,
              "#7201a8"
             ],
             [
              0.3333333333333333,
              "#9c179e"
             ],
             [
              0.4444444444444444,
              "#bd3786"
             ],
             [
              0.5555555555555556,
              "#d8576b"
             ],
             [
              0.6666666666666666,
              "#ed7953"
             ],
             [
              0.7777777777777778,
              "#fb9f3a"
             ],
             [
              0.8888888888888888,
              "#fdca26"
             ],
             [
              1,
              "#f0f921"
             ]
            ],
            "type": "heatmap"
           }
          ],
          "histogram": [
           {
            "marker": {
             "pattern": {
              "fillmode": "overlay",
              "size": 10,
              "solidity": 0.2
             }
            },
            "type": "histogram"
           }
          ],
          "histogram2d": [
           {
            "colorbar": {
             "outlinewidth": 0,
             "ticks": ""
            },
            "colorscale": [
             [
              0,
              "#0d0887"
             ],
             [
              0.1111111111111111,
              "#46039f"
             ],
             [
              0.2222222222222222,
              "#7201a8"
             ],
             [
              0.3333333333333333,
              "#9c179e"
             ],
             [
              0.4444444444444444,
              "#bd3786"
             ],
             [
              0.5555555555555556,
              "#d8576b"
             ],
             [
              0.6666666666666666,
              "#ed7953"
             ],
             [
              0.7777777777777778,
              "#fb9f3a"
             ],
             [
              0.8888888888888888,
              "#fdca26"
             ],
             [
              1,
              "#f0f921"
             ]
            ],
            "type": "histogram2d"
           }
          ],
          "histogram2dcontour": [
           {
            "colorbar": {
             "outlinewidth": 0,
             "ticks": ""
            },
            "colorscale": [
             [
              0,
              "#0d0887"
             ],
             [
              0.1111111111111111,
              "#46039f"
             ],
             [
              0.2222222222222222,
              "#7201a8"
             ],
             [
              0.3333333333333333,
              "#9c179e"
             ],
             [
              0.4444444444444444,
              "#bd3786"
             ],
             [
              0.5555555555555556,
              "#d8576b"
             ],
             [
              0.6666666666666666,
              "#ed7953"
             ],
             [
              0.7777777777777778,
              "#fb9f3a"
             ],
             [
              0.8888888888888888,
              "#fdca26"
             ],
             [
              1,
              "#f0f921"
             ]
            ],
            "type": "histogram2dcontour"
           }
          ],
          "mesh3d": [
           {
            "colorbar": {
             "outlinewidth": 0,
             "ticks": ""
            },
            "type": "mesh3d"
           }
          ],
          "parcoords": [
           {
            "line": {
             "colorbar": {
              "outlinewidth": 0,
              "ticks": ""
             }
            },
            "type": "parcoords"
           }
          ],
          "pie": [
           {
            "automargin": true,
            "type": "pie"
           }
          ],
          "scatter": [
           {
            "fillpattern": {
             "fillmode": "overlay",
             "size": 10,
             "solidity": 0.2
            },
            "type": "scatter"
           }
          ],
          "scatter3d": [
           {
            "line": {
             "colorbar": {
              "outlinewidth": 0,
              "ticks": ""
             }
            },
            "marker": {
             "colorbar": {
              "outlinewidth": 0,
              "ticks": ""
             }
            },
            "type": "scatter3d"
           }
          ],
          "scattercarpet": [
           {
            "marker": {
             "colorbar": {
              "outlinewidth": 0,
              "ticks": ""
             }
            },
            "type": "scattercarpet"
           }
          ],
          "scattergeo": [
           {
            "marker": {
             "colorbar": {
              "outlinewidth": 0,
              "ticks": ""
             }
            },
            "type": "scattergeo"
           }
          ],
          "scattergl": [
           {
            "marker": {
             "colorbar": {
              "outlinewidth": 0,
              "ticks": ""
             }
            },
            "type": "scattergl"
           }
          ],
          "scattermap": [
           {
            "marker": {
             "colorbar": {
              "outlinewidth": 0,
              "ticks": ""
             }
            },
            "type": "scattermap"
           }
          ],
          "scattermapbox": [
           {
            "marker": {
             "colorbar": {
              "outlinewidth": 0,
              "ticks": ""
             }
            },
            "type": "scattermapbox"
           }
          ],
          "scatterpolar": [
           {
            "marker": {
             "colorbar": {
              "outlinewidth": 0,
              "ticks": ""
             }
            },
            "type": "scatterpolar"
           }
          ],
          "scatterpolargl": [
           {
            "marker": {
             "colorbar": {
              "outlinewidth": 0,
              "ticks": ""
             }
            },
            "type": "scatterpolargl"
           }
          ],
          "scatterternary": [
           {
            "marker": {
             "colorbar": {
              "outlinewidth": 0,
              "ticks": ""
             }
            },
            "type": "scatterternary"
           }
          ],
          "surface": [
           {
            "colorbar": {
             "outlinewidth": 0,
             "ticks": ""
            },
            "colorscale": [
             [
              0,
              "#0d0887"
             ],
             [
              0.1111111111111111,
              "#46039f"
             ],
             [
              0.2222222222222222,
              "#7201a8"
             ],
             [
              0.3333333333333333,
              "#9c179e"
             ],
             [
              0.4444444444444444,
              "#bd3786"
             ],
             [
              0.5555555555555556,
              "#d8576b"
             ],
             [
              0.6666666666666666,
              "#ed7953"
             ],
             [
              0.7777777777777778,
              "#fb9f3a"
             ],
             [
              0.8888888888888888,
              "#fdca26"
             ],
             [
              1,
              "#f0f921"
             ]
            ],
            "type": "surface"
           }
          ],
          "table": [
           {
            "cells": {
             "fill": {
              "color": "#EBF0F8"
             },
             "line": {
              "color": "white"
             }
            },
            "header": {
             "fill": {
              "color": "#C8D4E3"
             },
             "line": {
              "color": "white"
             }
            },
            "type": "table"
           }
          ]
         },
         "layout": {
          "annotationdefaults": {
           "arrowcolor": "#2a3f5f",
           "arrowhead": 0,
           "arrowwidth": 1
          },
          "autotypenumbers": "strict",
          "coloraxis": {
           "colorbar": {
            "outlinewidth": 0,
            "ticks": ""
           }
          },
          "colorscale": {
           "diverging": [
            [
             0,
             "#8e0152"
            ],
            [
             0.1,
             "#c51b7d"
            ],
            [
             0.2,
             "#de77ae"
            ],
            [
             0.3,
             "#f1b6da"
            ],
            [
             0.4,
             "#fde0ef"
            ],
            [
             0.5,
             "#f7f7f7"
            ],
            [
             0.6,
             "#e6f5d0"
            ],
            [
             0.7,
             "#b8e186"
            ],
            [
             0.8,
             "#7fbc41"
            ],
            [
             0.9,
             "#4d9221"
            ],
            [
             1,
             "#276419"
            ]
           ],
           "sequential": [
            [
             0,
             "#0d0887"
            ],
            [
             0.1111111111111111,
             "#46039f"
            ],
            [
             0.2222222222222222,
             "#7201a8"
            ],
            [
             0.3333333333333333,
             "#9c179e"
            ],
            [
             0.4444444444444444,
             "#bd3786"
            ],
            [
             0.5555555555555556,
             "#d8576b"
            ],
            [
             0.6666666666666666,
             "#ed7953"
            ],
            [
             0.7777777777777778,
             "#fb9f3a"
            ],
            [
             0.8888888888888888,
             "#fdca26"
            ],
            [
             1,
             "#f0f921"
            ]
           ],
           "sequentialminus": [
            [
             0,
             "#0d0887"
            ],
            [
             0.1111111111111111,
             "#46039f"
            ],
            [
             0.2222222222222222,
             "#7201a8"
            ],
            [
             0.3333333333333333,
             "#9c179e"
            ],
            [
             0.4444444444444444,
             "#bd3786"
            ],
            [
             0.5555555555555556,
             "#d8576b"
            ],
            [
             0.6666666666666666,
             "#ed7953"
            ],
            [
             0.7777777777777778,
             "#fb9f3a"
            ],
            [
             0.8888888888888888,
             "#fdca26"
            ],
            [
             1,
             "#f0f921"
            ]
           ]
          },
          "colorway": [
           "#636efa",
           "#EF553B",
           "#00cc96",
           "#ab63fa",
           "#FFA15A",
           "#19d3f3",
           "#FF6692",
           "#B6E880",
           "#FF97FF",
           "#FECB52"
          ],
          "font": {
           "color": "#2a3f5f"
          },
          "geo": {
           "bgcolor": "white",
           "lakecolor": "white",
           "landcolor": "white",
           "showlakes": true,
           "showland": true,
           "subunitcolor": "#C8D4E3"
          },
          "hoverlabel": {
           "align": "left"
          },
          "hovermode": "closest",
          "mapbox": {
           "style": "light"
          },
          "paper_bgcolor": "white",
          "plot_bgcolor": "white",
          "polar": {
           "angularaxis": {
            "gridcolor": "#EBF0F8",
            "linecolor": "#EBF0F8",
            "ticks": ""
           },
           "bgcolor": "white",
           "radialaxis": {
            "gridcolor": "#EBF0F8",
            "linecolor": "#EBF0F8",
            "ticks": ""
           }
          },
          "scene": {
           "xaxis": {
            "backgroundcolor": "white",
            "gridcolor": "#DFE8F3",
            "gridwidth": 2,
            "linecolor": "#EBF0F8",
            "showbackground": true,
            "ticks": "",
            "zerolinecolor": "#EBF0F8"
           },
           "yaxis": {
            "backgroundcolor": "white",
            "gridcolor": "#DFE8F3",
            "gridwidth": 2,
            "linecolor": "#EBF0F8",
            "showbackground": true,
            "ticks": "",
            "zerolinecolor": "#EBF0F8"
           },
           "zaxis": {
            "backgroundcolor": "white",
            "gridcolor": "#DFE8F3",
            "gridwidth": 2,
            "linecolor": "#EBF0F8",
            "showbackground": true,
            "ticks": "",
            "zerolinecolor": "#EBF0F8"
           }
          },
          "shapedefaults": {
           "line": {
            "color": "#2a3f5f"
           }
          },
          "ternary": {
           "aaxis": {
            "gridcolor": "#DFE8F3",
            "linecolor": "#A2B1C6",
            "ticks": ""
           },
           "baxis": {
            "gridcolor": "#DFE8F3",
            "linecolor": "#A2B1C6",
            "ticks": ""
           },
           "bgcolor": "white",
           "caxis": {
            "gridcolor": "#DFE8F3",
            "linecolor": "#A2B1C6",
            "ticks": ""
           }
          },
          "title": {
           "x": 0.05
          },
          "xaxis": {
           "automargin": true,
           "gridcolor": "#EBF0F8",
           "linecolor": "#EBF0F8",
           "ticks": "",
           "title": {
            "standoff": 15
           },
           "zerolinecolor": "#EBF0F8",
           "zerolinewidth": 2
          },
          "yaxis": {
           "automargin": true,
           "gridcolor": "#EBF0F8",
           "linecolor": "#EBF0F8",
           "ticks": "",
           "title": {
            "standoff": 15
           },
           "zerolinecolor": "#EBF0F8",
           "zerolinewidth": 2
          }
         }
        },
        "title": {
         "text": "Class Distribution in Training Set"
        },
        "xaxis": {
         "anchor": "y",
         "domain": [
          0,
          1
         ],
         "tickangle": -45,
         "title": {
          "text": "Class"
         }
        },
        "yaxis": {
         "anchor": "x",
         "domain": [
          0,
          1
         ],
         "title": {
          "text": "Number of Samples"
         }
        }
       }
      }
     },
     "metadata": {},
     "output_type": "display_data"
    }
   ],
   "source": [
    "class_counts_df = pd.Series(y_train_str).value_counts().reset_index()\n",
    "class_counts_df.columns = ['Class', 'Count']\n",
    "class_counts_df = class_counts_df.sort_values(by=\"Count\", ascending=False)\n",
    "\n",
    "\n",
    "# 📊 วาด histogram ด้วย Plotly\n",
    "fig = px.bar(\n",
    "    class_counts_df,\n",
    "    x='Class',\n",
    "    y='Count',\n",
    "    title=\"Class Distribution in Training Set\",\n",
    "    labels={'Count': 'Number of Samples'},\n",
    "    template='plotly_white'\n",
    ")\n",
    "\n",
    "fig.update_layout(\n",
    "    xaxis_tickangle=-45,\n",
    "    bargap=0.2\n",
    ")\n",
    "\n",
    "fig.show()"
   ]
  },
  {
   "cell_type": "code",
   "execution_count": 127,
   "id": "7ca0c354",
   "metadata": {},
   "outputs": [],
   "source": [
    "encoder = LabelEncoder()\n",
    "y_train = encoder.fit_transform(y_train_str)\n",
    "input_shape = X_train.shape[1:] "
   ]
  },
  {
   "cell_type": "code",
   "execution_count": 128,
   "id": "ae4f3372",
   "metadata": {},
   "outputs": [
    {
     "name": "stdout",
     "output_type": "stream",
     "text": [
      "📊 Class weights: {0: 0.12914074323188163, 1: 2.0210526315789474, 2: 2.3777089783281733, 3: 3.3684210526315788, 4: 3.1093117408906883, 5: 3.1093117408906883, 6: 2.1274238227146816, 7: 2.526315789473684, 8: 2.526315789473684, 9: 2.245614035087719, 10: 2.694736842105263, 11: 0.14915517576228393, 12: 2.1274238227146816, 13: 0.14232765011119347, 14: 2.694736842105263, 15: 2.526315789473684, 16: 0.7349282296650718, 17: 2.3777089783281733, 18: 2.3777089783281733, 19: 2.0210526315789474, 20: 2.3777089783281733, 21: 2.1274238227146816, 22: 2.245614035087719, 23: 1.8373205741626795, 24: 2.1274238227146816, 25: 2.526315789473684, 26: 2.3777089783281733, 27: 2.694736842105263, 28: 2.245614035087719, 29: 2.0210526315789474, 30: 0.9624060150375939, 31: 1.9248120300751879, 32: 2.1274238227146816, 33: 2.3777089783281733, 34: 2.694736842105263, 35: 2.887218045112782, 36: 1.757437070938215, 37: 2.245614035087719}\n",
      "✅ Focal Loss initialized\n"
     ]
    }
   ],
   "source": [
    "class FocalLoss(tf.keras.losses.Loss):\n",
    "    def __init__(self, alpha=1.0, gamma=2.0, from_logits=False, **kwargs):\n",
    "        super(FocalLoss, self).__init__(**kwargs)\n",
    "        self.alpha = alpha\n",
    "        self.gamma = gamma\n",
    "        self.from_logits = from_logits\n",
    "\n",
    "    def call(self, y_true, y_pred):\n",
    "        if self.from_logits:\n",
    "            y_pred = tf.nn.softmax(y_pred, axis=-1)\n",
    "        \n",
    "        y_true = tf.cast(y_true, tf.int32)\n",
    "        y_true_one_hot = tf.one_hot(y_true, depth=tf.shape(y_pred)[-1])\n",
    "        \n",
    "        epsilon = tf.keras.backend.epsilon()\n",
    "        y_pred = tf.clip_by_value(y_pred, epsilon, 1.0 - epsilon)\n",
    "        \n",
    "        ce_loss = -y_true_one_hot * tf.math.log(y_pred)\n",
    "        pt = tf.where(tf.equal(y_true_one_hot, 1), y_pred, 1 - y_pred)\n",
    "        focal_weight = self.alpha * tf.pow(1 - pt, self.gamma)\n",
    "        \n",
    "        focal_loss = focal_weight * ce_loss\n",
    "        return tf.reduce_mean(tf.reduce_sum(focal_loss, axis=-1))\n",
    "\n",
    "    def get_config(self):\n",
    "        config = super(FocalLoss, self).get_config()\n",
    "        config.update({\n",
    "            'alpha': self.alpha,\n",
    "            'gamma': self.gamma,\n",
    "            'from_logits': self.from_logits\n",
    "        })\n",
    "        return config\n",
    "\n",
    "class_weight_dict = compute_class_weight(\n",
    "    class_weight=\"balanced\",\n",
    "    classes=np.unique(y_train),\n",
    "    y=y_train\n",
    ")\n",
    "\n",
    "class_weights = {i: w for i, w in enumerate(class_weight_dict)}\n",
    "print(\"📊 Class weights:\", class_weights)\n",
    "\n",
    "focal_loss = FocalLoss(alpha=1.0, gamma=2.0)\n",
    "print(\"✅ Focal Loss initialized\")"
   ]
  },
  {
   "cell_type": "code",
   "execution_count": 129,
   "id": "4e90a754",
   "metadata": {},
   "outputs": [
    {
     "name": "stdout",
     "output_type": "stream",
     "text": [
      "✅ Model with regularization created\n",
      "🎯 Target classes: 38\n"
     ]
    },
    {
     "name": "stderr",
     "output_type": "stream",
     "text": [
      "/Users/ittichaiboonyarakthunya/Documents/WorkDir/ai-ml/labs-gunshot-classification/.venv/lib/python3.11/site-packages/keras/src/layers/convolutional/base_conv.py:113: UserWarning:\n",
      "\n",
      "Do not pass an `input_shape`/`input_dim` argument to a layer. When using Sequential models, prefer using an `Input(shape)` object as the first layer in the model instead.\n",
      "\n"
     ]
    },
    {
     "data": {
      "text/html": [
       "<pre style=\"white-space:pre;overflow-x:auto;line-height:normal;font-family:Menlo,'DejaVu Sans Mono',consolas,'Courier New',monospace\"><span style=\"font-weight: bold\">Model: \"sequential_6\"</span>\n",
       "</pre>\n"
      ],
      "text/plain": [
       "\u001b[1mModel: \"sequential_6\"\u001b[0m\n"
      ]
     },
     "metadata": {},
     "output_type": "display_data"
    },
    {
     "data": {
      "text/html": [
       "<pre style=\"white-space:pre;overflow-x:auto;line-height:normal;font-family:Menlo,'DejaVu Sans Mono',consolas,'Courier New',monospace\">┏━━━━━━━━━━━━━━━━━━━━━━━━━━━━━━━━━┳━━━━━━━━━━━━━━━━━━━━━━━━┳━━━━━━━━━━━━━━━┓\n",
       "┃<span style=\"font-weight: bold\"> Layer (type)                    </span>┃<span style=\"font-weight: bold\"> Output Shape           </span>┃<span style=\"font-weight: bold\">       Param # </span>┃\n",
       "┡━━━━━━━━━━━━━━━━━━━━━━━━━━━━━━━━━╇━━━━━━━━━━━━━━━━━━━━━━━━╇━━━━━━━━━━━━━━━┩\n",
       "│ conv2d_13 (<span style=\"color: #0087ff; text-decoration-color: #0087ff\">Conv2D</span>)              │ (<span style=\"color: #00d7ff; text-decoration-color: #00d7ff\">None</span>, <span style=\"color: #00af00; text-decoration-color: #00af00\">62</span>, <span style=\"color: #00af00; text-decoration-color: #00af00\">419</span>, <span style=\"color: #00af00; text-decoration-color: #00af00\">32</span>)    │           <span style=\"color: #00af00; text-decoration-color: #00af00\">320</span> │\n",
       "├─────────────────────────────────┼────────────────────────┼───────────────┤\n",
       "│ batch_normalization_4           │ (<span style=\"color: #00d7ff; text-decoration-color: #00d7ff\">None</span>, <span style=\"color: #00af00; text-decoration-color: #00af00\">62</span>, <span style=\"color: #00af00; text-decoration-color: #00af00\">419</span>, <span style=\"color: #00af00; text-decoration-color: #00af00\">32</span>)    │           <span style=\"color: #00af00; text-decoration-color: #00af00\">128</span> │\n",
       "│ (<span style=\"color: #0087ff; text-decoration-color: #0087ff\">BatchNormalization</span>)            │                        │               │\n",
       "├─────────────────────────────────┼────────────────────────┼───────────────┤\n",
       "│ max_pooling2d_12 (<span style=\"color: #0087ff; text-decoration-color: #0087ff\">MaxPooling2D</span>) │ (<span style=\"color: #00d7ff; text-decoration-color: #00d7ff\">None</span>, <span style=\"color: #00af00; text-decoration-color: #00af00\">31</span>, <span style=\"color: #00af00; text-decoration-color: #00af00\">209</span>, <span style=\"color: #00af00; text-decoration-color: #00af00\">32</span>)    │             <span style=\"color: #00af00; text-decoration-color: #00af00\">0</span> │\n",
       "├─────────────────────────────────┼────────────────────────┼───────────────┤\n",
       "│ dropout_4 (<span style=\"color: #0087ff; text-decoration-color: #0087ff\">Dropout</span>)             │ (<span style=\"color: #00d7ff; text-decoration-color: #00d7ff\">None</span>, <span style=\"color: #00af00; text-decoration-color: #00af00\">31</span>, <span style=\"color: #00af00; text-decoration-color: #00af00\">209</span>, <span style=\"color: #00af00; text-decoration-color: #00af00\">32</span>)    │             <span style=\"color: #00af00; text-decoration-color: #00af00\">0</span> │\n",
       "├─────────────────────────────────┼────────────────────────┼───────────────┤\n",
       "│ conv2d_14 (<span style=\"color: #0087ff; text-decoration-color: #0087ff\">Conv2D</span>)              │ (<span style=\"color: #00d7ff; text-decoration-color: #00d7ff\">None</span>, <span style=\"color: #00af00; text-decoration-color: #00af00\">29</span>, <span style=\"color: #00af00; text-decoration-color: #00af00\">207</span>, <span style=\"color: #00af00; text-decoration-color: #00af00\">64</span>)    │        <span style=\"color: #00af00; text-decoration-color: #00af00\">18,496</span> │\n",
       "├─────────────────────────────────┼────────────────────────┼───────────────┤\n",
       "│ batch_normalization_5           │ (<span style=\"color: #00d7ff; text-decoration-color: #00d7ff\">None</span>, <span style=\"color: #00af00; text-decoration-color: #00af00\">29</span>, <span style=\"color: #00af00; text-decoration-color: #00af00\">207</span>, <span style=\"color: #00af00; text-decoration-color: #00af00\">64</span>)    │           <span style=\"color: #00af00; text-decoration-color: #00af00\">256</span> │\n",
       "│ (<span style=\"color: #0087ff; text-decoration-color: #0087ff\">BatchNormalization</span>)            │                        │               │\n",
       "├─────────────────────────────────┼────────────────────────┼───────────────┤\n",
       "│ max_pooling2d_13 (<span style=\"color: #0087ff; text-decoration-color: #0087ff\">MaxPooling2D</span>) │ (<span style=\"color: #00d7ff; text-decoration-color: #00d7ff\">None</span>, <span style=\"color: #00af00; text-decoration-color: #00af00\">14</span>, <span style=\"color: #00af00; text-decoration-color: #00af00\">103</span>, <span style=\"color: #00af00; text-decoration-color: #00af00\">64</span>)    │             <span style=\"color: #00af00; text-decoration-color: #00af00\">0</span> │\n",
       "├─────────────────────────────────┼────────────────────────┼───────────────┤\n",
       "│ dropout_5 (<span style=\"color: #0087ff; text-decoration-color: #0087ff\">Dropout</span>)             │ (<span style=\"color: #00d7ff; text-decoration-color: #00d7ff\">None</span>, <span style=\"color: #00af00; text-decoration-color: #00af00\">14</span>, <span style=\"color: #00af00; text-decoration-color: #00af00\">103</span>, <span style=\"color: #00af00; text-decoration-color: #00af00\">64</span>)    │             <span style=\"color: #00af00; text-decoration-color: #00af00\">0</span> │\n",
       "├─────────────────────────────────┼────────────────────────┼───────────────┤\n",
       "│ conv2d_15 (<span style=\"color: #0087ff; text-decoration-color: #0087ff\">Conv2D</span>)              │ (<span style=\"color: #00d7ff; text-decoration-color: #00d7ff\">None</span>, <span style=\"color: #00af00; text-decoration-color: #00af00\">12</span>, <span style=\"color: #00af00; text-decoration-color: #00af00\">101</span>, <span style=\"color: #00af00; text-decoration-color: #00af00\">128</span>)   │        <span style=\"color: #00af00; text-decoration-color: #00af00\">73,856</span> │\n",
       "├─────────────────────────────────┼────────────────────────┼───────────────┤\n",
       "│ batch_normalization_6           │ (<span style=\"color: #00d7ff; text-decoration-color: #00d7ff\">None</span>, <span style=\"color: #00af00; text-decoration-color: #00af00\">12</span>, <span style=\"color: #00af00; text-decoration-color: #00af00\">101</span>, <span style=\"color: #00af00; text-decoration-color: #00af00\">128</span>)   │           <span style=\"color: #00af00; text-decoration-color: #00af00\">512</span> │\n",
       "│ (<span style=\"color: #0087ff; text-decoration-color: #0087ff\">BatchNormalization</span>)            │                        │               │\n",
       "├─────────────────────────────────┼────────────────────────┼───────────────┤\n",
       "│ global_average_pooling2d_1      │ (<span style=\"color: #00d7ff; text-decoration-color: #00d7ff\">None</span>, <span style=\"color: #00af00; text-decoration-color: #00af00\">128</span>)            │             <span style=\"color: #00af00; text-decoration-color: #00af00\">0</span> │\n",
       "│ (<span style=\"color: #0087ff; text-decoration-color: #0087ff\">GlobalAveragePooling2D</span>)        │                        │               │\n",
       "├─────────────────────────────────┼────────────────────────┼───────────────┤\n",
       "│ dropout_6 (<span style=\"color: #0087ff; text-decoration-color: #0087ff\">Dropout</span>)             │ (<span style=\"color: #00d7ff; text-decoration-color: #00d7ff\">None</span>, <span style=\"color: #00af00; text-decoration-color: #00af00\">128</span>)            │             <span style=\"color: #00af00; text-decoration-color: #00af00\">0</span> │\n",
       "├─────────────────────────────────┼────────────────────────┼───────────────┤\n",
       "│ dense_12 (<span style=\"color: #0087ff; text-decoration-color: #0087ff\">Dense</span>)                │ (<span style=\"color: #00d7ff; text-decoration-color: #00d7ff\">None</span>, <span style=\"color: #00af00; text-decoration-color: #00af00\">128</span>)            │        <span style=\"color: #00af00; text-decoration-color: #00af00\">16,512</span> │\n",
       "├─────────────────────────────────┼────────────────────────┼───────────────┤\n",
       "│ batch_normalization_7           │ (<span style=\"color: #00d7ff; text-decoration-color: #00d7ff\">None</span>, <span style=\"color: #00af00; text-decoration-color: #00af00\">128</span>)            │           <span style=\"color: #00af00; text-decoration-color: #00af00\">512</span> │\n",
       "│ (<span style=\"color: #0087ff; text-decoration-color: #0087ff\">BatchNormalization</span>)            │                        │               │\n",
       "├─────────────────────────────────┼────────────────────────┼───────────────┤\n",
       "│ dropout_7 (<span style=\"color: #0087ff; text-decoration-color: #0087ff\">Dropout</span>)             │ (<span style=\"color: #00d7ff; text-decoration-color: #00d7ff\">None</span>, <span style=\"color: #00af00; text-decoration-color: #00af00\">128</span>)            │             <span style=\"color: #00af00; text-decoration-color: #00af00\">0</span> │\n",
       "├─────────────────────────────────┼────────────────────────┼───────────────┤\n",
       "│ dense_13 (<span style=\"color: #0087ff; text-decoration-color: #0087ff\">Dense</span>)                │ (<span style=\"color: #00d7ff; text-decoration-color: #00d7ff\">None</span>, <span style=\"color: #00af00; text-decoration-color: #00af00\">38</span>)             │         <span style=\"color: #00af00; text-decoration-color: #00af00\">4,902</span> │\n",
       "└─────────────────────────────────┴────────────────────────┴───────────────┘\n",
       "</pre>\n"
      ],
      "text/plain": [
       "┏━━━━━━━━━━━━━━━━━━━━━━━━━━━━━━━━━┳━━━━━━━━━━━━━━━━━━━━━━━━┳━━━━━━━━━━━━━━━┓\n",
       "┃\u001b[1m \u001b[0m\u001b[1mLayer (type)                   \u001b[0m\u001b[1m \u001b[0m┃\u001b[1m \u001b[0m\u001b[1mOutput Shape          \u001b[0m\u001b[1m \u001b[0m┃\u001b[1m \u001b[0m\u001b[1m      Param #\u001b[0m\u001b[1m \u001b[0m┃\n",
       "┡━━━━━━━━━━━━━━━━━━━━━━━━━━━━━━━━━╇━━━━━━━━━━━━━━━━━━━━━━━━╇━━━━━━━━━━━━━━━┩\n",
       "│ conv2d_13 (\u001b[38;5;33mConv2D\u001b[0m)              │ (\u001b[38;5;45mNone\u001b[0m, \u001b[38;5;34m62\u001b[0m, \u001b[38;5;34m419\u001b[0m, \u001b[38;5;34m32\u001b[0m)    │           \u001b[38;5;34m320\u001b[0m │\n",
       "├─────────────────────────────────┼────────────────────────┼───────────────┤\n",
       "│ batch_normalization_4           │ (\u001b[38;5;45mNone\u001b[0m, \u001b[38;5;34m62\u001b[0m, \u001b[38;5;34m419\u001b[0m, \u001b[38;5;34m32\u001b[0m)    │           \u001b[38;5;34m128\u001b[0m │\n",
       "│ (\u001b[38;5;33mBatchNormalization\u001b[0m)            │                        │               │\n",
       "├─────────────────────────────────┼────────────────────────┼───────────────┤\n",
       "│ max_pooling2d_12 (\u001b[38;5;33mMaxPooling2D\u001b[0m) │ (\u001b[38;5;45mNone\u001b[0m, \u001b[38;5;34m31\u001b[0m, \u001b[38;5;34m209\u001b[0m, \u001b[38;5;34m32\u001b[0m)    │             \u001b[38;5;34m0\u001b[0m │\n",
       "├─────────────────────────────────┼────────────────────────┼───────────────┤\n",
       "│ dropout_4 (\u001b[38;5;33mDropout\u001b[0m)             │ (\u001b[38;5;45mNone\u001b[0m, \u001b[38;5;34m31\u001b[0m, \u001b[38;5;34m209\u001b[0m, \u001b[38;5;34m32\u001b[0m)    │             \u001b[38;5;34m0\u001b[0m │\n",
       "├─────────────────────────────────┼────────────────────────┼───────────────┤\n",
       "│ conv2d_14 (\u001b[38;5;33mConv2D\u001b[0m)              │ (\u001b[38;5;45mNone\u001b[0m, \u001b[38;5;34m29\u001b[0m, \u001b[38;5;34m207\u001b[0m, \u001b[38;5;34m64\u001b[0m)    │        \u001b[38;5;34m18,496\u001b[0m │\n",
       "├─────────────────────────────────┼────────────────────────┼───────────────┤\n",
       "│ batch_normalization_5           │ (\u001b[38;5;45mNone\u001b[0m, \u001b[38;5;34m29\u001b[0m, \u001b[38;5;34m207\u001b[0m, \u001b[38;5;34m64\u001b[0m)    │           \u001b[38;5;34m256\u001b[0m │\n",
       "│ (\u001b[38;5;33mBatchNormalization\u001b[0m)            │                        │               │\n",
       "├─────────────────────────────────┼────────────────────────┼───────────────┤\n",
       "│ max_pooling2d_13 (\u001b[38;5;33mMaxPooling2D\u001b[0m) │ (\u001b[38;5;45mNone\u001b[0m, \u001b[38;5;34m14\u001b[0m, \u001b[38;5;34m103\u001b[0m, \u001b[38;5;34m64\u001b[0m)    │             \u001b[38;5;34m0\u001b[0m │\n",
       "├─────────────────────────────────┼────────────────────────┼───────────────┤\n",
       "│ dropout_5 (\u001b[38;5;33mDropout\u001b[0m)             │ (\u001b[38;5;45mNone\u001b[0m, \u001b[38;5;34m14\u001b[0m, \u001b[38;5;34m103\u001b[0m, \u001b[38;5;34m64\u001b[0m)    │             \u001b[38;5;34m0\u001b[0m │\n",
       "├─────────────────────────────────┼────────────────────────┼───────────────┤\n",
       "│ conv2d_15 (\u001b[38;5;33mConv2D\u001b[0m)              │ (\u001b[38;5;45mNone\u001b[0m, \u001b[38;5;34m12\u001b[0m, \u001b[38;5;34m101\u001b[0m, \u001b[38;5;34m128\u001b[0m)   │        \u001b[38;5;34m73,856\u001b[0m │\n",
       "├─────────────────────────────────┼────────────────────────┼───────────────┤\n",
       "│ batch_normalization_6           │ (\u001b[38;5;45mNone\u001b[0m, \u001b[38;5;34m12\u001b[0m, \u001b[38;5;34m101\u001b[0m, \u001b[38;5;34m128\u001b[0m)   │           \u001b[38;5;34m512\u001b[0m │\n",
       "│ (\u001b[38;5;33mBatchNormalization\u001b[0m)            │                        │               │\n",
       "├─────────────────────────────────┼────────────────────────┼───────────────┤\n",
       "│ global_average_pooling2d_1      │ (\u001b[38;5;45mNone\u001b[0m, \u001b[38;5;34m128\u001b[0m)            │             \u001b[38;5;34m0\u001b[0m │\n",
       "│ (\u001b[38;5;33mGlobalAveragePooling2D\u001b[0m)        │                        │               │\n",
       "├─────────────────────────────────┼────────────────────────┼───────────────┤\n",
       "│ dropout_6 (\u001b[38;5;33mDropout\u001b[0m)             │ (\u001b[38;5;45mNone\u001b[0m, \u001b[38;5;34m128\u001b[0m)            │             \u001b[38;5;34m0\u001b[0m │\n",
       "├─────────────────────────────────┼────────────────────────┼───────────────┤\n",
       "│ dense_12 (\u001b[38;5;33mDense\u001b[0m)                │ (\u001b[38;5;45mNone\u001b[0m, \u001b[38;5;34m128\u001b[0m)            │        \u001b[38;5;34m16,512\u001b[0m │\n",
       "├─────────────────────────────────┼────────────────────────┼───────────────┤\n",
       "│ batch_normalization_7           │ (\u001b[38;5;45mNone\u001b[0m, \u001b[38;5;34m128\u001b[0m)            │           \u001b[38;5;34m512\u001b[0m │\n",
       "│ (\u001b[38;5;33mBatchNormalization\u001b[0m)            │                        │               │\n",
       "├─────────────────────────────────┼────────────────────────┼───────────────┤\n",
       "│ dropout_7 (\u001b[38;5;33mDropout\u001b[0m)             │ (\u001b[38;5;45mNone\u001b[0m, \u001b[38;5;34m128\u001b[0m)            │             \u001b[38;5;34m0\u001b[0m │\n",
       "├─────────────────────────────────┼────────────────────────┼───────────────┤\n",
       "│ dense_13 (\u001b[38;5;33mDense\u001b[0m)                │ (\u001b[38;5;45mNone\u001b[0m, \u001b[38;5;34m38\u001b[0m)             │         \u001b[38;5;34m4,902\u001b[0m │\n",
       "└─────────────────────────────────┴────────────────────────┴───────────────┘\n"
      ]
     },
     "metadata": {},
     "output_type": "display_data"
    },
    {
     "data": {
      "text/html": [
       "<pre style=\"white-space:pre;overflow-x:auto;line-height:normal;font-family:Menlo,'DejaVu Sans Mono',consolas,'Courier New',monospace\"><span style=\"font-weight: bold\"> Total params: </span><span style=\"color: #00af00; text-decoration-color: #00af00\">115,494</span> (451.15 KB)\n",
       "</pre>\n"
      ],
      "text/plain": [
       "\u001b[1m Total params: \u001b[0m\u001b[38;5;34m115,494\u001b[0m (451.15 KB)\n"
      ]
     },
     "metadata": {},
     "output_type": "display_data"
    },
    {
     "data": {
      "text/html": [
       "<pre style=\"white-space:pre;overflow-x:auto;line-height:normal;font-family:Menlo,'DejaVu Sans Mono',consolas,'Courier New',monospace\"><span style=\"font-weight: bold\"> Trainable params: </span><span style=\"color: #00af00; text-decoration-color: #00af00\">114,790</span> (448.40 KB)\n",
       "</pre>\n"
      ],
      "text/plain": [
       "\u001b[1m Trainable params: \u001b[0m\u001b[38;5;34m114,790\u001b[0m (448.40 KB)\n"
      ]
     },
     "metadata": {},
     "output_type": "display_data"
    },
    {
     "data": {
      "text/html": [
       "<pre style=\"white-space:pre;overflow-x:auto;line-height:normal;font-family:Menlo,'DejaVu Sans Mono',consolas,'Courier New',monospace\"><span style=\"font-weight: bold\"> Non-trainable params: </span><span style=\"color: #00af00; text-decoration-color: #00af00\">704</span> (2.75 KB)\n",
       "</pre>\n"
      ],
      "text/plain": [
       "\u001b[1m Non-trainable params: \u001b[0m\u001b[38;5;34m704\u001b[0m (2.75 KB)\n"
      ]
     },
     "metadata": {},
     "output_type": "display_data"
    }
   ],
   "source": [
    "model = models.Sequential([\n",
    "    layers.Conv2D(32, (3,3), activation='relu', input_shape=input_shape),\n",
    "    layers.BatchNormalization(),\n",
    "    layers.MaxPooling2D((2,2)),\n",
    "    layers.Dropout(0.25),\n",
    "    \n",
    "    layers.Conv2D(64, (3,3), activation='relu'),\n",
    "    layers.BatchNormalization(),\n",
    "    layers.MaxPooling2D((2,2)),\n",
    "    layers.Dropout(0.25),\n",
    "    \n",
    "    layers.Conv2D(128, (3,3), activation='relu'),\n",
    "    layers.BatchNormalization(),\n",
    "    layers.GlobalAveragePooling2D(),  # Replace Flatten to reduce parameters\n",
    "    layers.Dropout(0.5),\n",
    "    \n",
    "    layers.Dense(128, activation='relu'),\n",
    "    layers.BatchNormalization(),\n",
    "    layers.Dropout(0.5),\n",
    "    layers.Dense(len(encoder.classes_), activation='softmax')\n",
    "])\n",
    "\n",
    "print(\"✅ Model with regularization created\")\n",
    "print(f\"🎯 Target classes: {len(encoder.classes_)}\")\n",
    "model.summary()"
   ]
  },
  {
   "cell_type": "code",
   "execution_count": 130,
   "id": "5730515d",
   "metadata": {},
   "outputs": [
    {
     "name": "stdout",
     "output_type": "stream",
     "text": [
      "✅ Model compiled with anti-overfitting strategies:\n"
     ]
    }
   ],
   "source": [
    "class TqdmCallback(tf.keras.callbacks.Callback):\n",
    "    def __init__(self):\n",
    "        super().__init__()\n",
    "        self.epoch_progress = None\n",
    "        \n",
    "    def on_train_begin(self, logs=None):\n",
    "        self.epochs = self.params['epochs']\n",
    "        self.epoch_progress = tqdm(total=self.epochs, desc=\"Training Progress\", unit=\"epoch\")\n",
    "        \n",
    "    def on_epoch_end(self, epoch, logs=None):\n",
    "        self.epoch_progress.update(1)\n",
    "        # Update progress bar description with current metrics\n",
    "        desc = f\"Epoch {epoch+1}/{self.epochs} - loss: {logs.get('loss', 0):.4f} - acc: {logs.get('accuracy', 0):.4f} - val_loss: {logs.get('val_loss', 0):.4f} - val_acc: {logs.get('val_accuracy', 0):.4f}\"\n",
    "        self.epoch_progress.set_description(desc)\n",
    "        \n",
    "    def on_train_end(self, logs=None):\n",
    "        if self.epoch_progress:\n",
    "            self.epoch_progress.close()\n",
    "\n",
    "# Reduce learning rate and add L2 regularization\n",
    "optimizer = Adam(learning_rate=0.0001)\n",
    "\n",
    "model.compile(\n",
    "    optimizer=optimizer,\n",
    "    loss=focal_loss,\n",
    "    metrics=['accuracy']\n",
    ")\n",
    "\n",
    "# More aggressive early stopping to prevent overfitting\n",
    "early_stop = EarlyStopping(\n",
    "    monitor='val_loss',\n",
    "    patience=7,\n",
    "    restore_best_weights=True,\n",
    "    verbose=1\n",
    ")\n",
    "\n",
    "# Add learning rate reduction\n",
    "lr_reduce = tf.keras.callbacks.ReduceLROnPlateau(\n",
    "    monitor='val_loss',\n",
    "    factor=0.5,\n",
    "    patience=3,\n",
    "    min_lr=1e-7,\n",
    "    verbose=1\n",
    ")\n",
    "\n",
    "tqdm_callback = TqdmCallback()\n",
    "\n",
    "print(\"✅ Model compiled with anti-overfitting strategies:\")"
   ]
  },
  {
   "cell_type": "code",
   "execution_count": 131,
   "id": "f3401cb1",
   "metadata": {},
   "outputs": [
    {
     "name": "stdout",
     "output_type": "stream",
     "text": [
      "🔍 Found 329 .npy files in ../features/val\n"
     ]
    },
    {
     "data": {
      "application/vnd.jupyter.widget-view+json": {
       "model_id": "635e56b0cee543148495e9069ed730b0",
       "version_major": 2,
       "version_minor": 0
      },
      "text/plain": [
       "Loading val data:   0%|          | 0/329 [00:00<?, ?files/s]"
      ]
     },
     "metadata": {},
     "output_type": "display_data"
    }
   ],
   "source": [
    "X_val,   y_val_str   = load_feature_dir(Path(f\"{FEATURES_DIR}/val\"),   target_shape=(64, 421, 1))\n",
    "encoder = LabelEncoder()\n",
    "encoder.fit(y_train_str + y_val_str)  # รวมเพื่อให้คลาสตรงกัน\n",
    "y_train = encoder.transform(y_train_str)\n",
    "y_val = encoder.transform(y_val_str)"
   ]
  },
  {
   "cell_type": "code",
   "execution_count": 132,
   "id": "115b8e84",
   "metadata": {},
   "outputs": [
    {
     "data": {
      "application/vnd.jupyter.widget-view+json": {
       "model_id": "59ef48b6ac134a8e92d5308c3be770c8",
       "version_major": 2,
       "version_minor": 0
      },
      "text/plain": [
       "Training Progress:   0%|          | 0/50 [00:00<?, ?epoch/s]"
      ]
     },
     "metadata": {},
     "output_type": "display_data"
    },
    {
     "name": "stdout",
     "output_type": "stream",
     "text": [
      "\n",
      "Epoch 1: val_loss improved from inf to 3.41372, saving model to models/v4_regularized_model.keras\n",
      "\n",
      "Epoch 2: val_loss improved from 3.41372 to 3.41060, saving model to models/v4_regularized_model.keras\n",
      "\n",
      "Epoch 3: val_loss did not improve from 3.41060\n",
      "\n",
      "Epoch 4: val_loss improved from 3.41060 to 3.35556, saving model to models/v4_regularized_model.keras\n",
      "\n",
      "Epoch 5: val_loss improved from 3.35556 to 3.35268, saving model to models/v4_regularized_model.keras\n",
      "\n",
      "Epoch 6: val_loss did not improve from 3.35268\n",
      "\n",
      "Epoch 7: val_loss improved from 3.35268 to 3.35181, saving model to models/v4_regularized_model.keras\n",
      "\n",
      "Epoch 8: val_loss did not improve from 3.35181\n",
      "\n",
      "Epoch 9: val_loss did not improve from 3.35181\n",
      "\n",
      "Epoch 10: val_loss did not improve from 3.35181\n",
      "\n",
      "Epoch 10: ReduceLROnPlateau reducing learning rate to 4.999999873689376e-05.\n",
      "\n",
      "Epoch 11: val_loss did not improve from 3.35181\n",
      "\n",
      "Epoch 12: val_loss did not improve from 3.35181\n",
      "\n",
      "Epoch 13: val_loss did not improve from 3.35181\n",
      "\n",
      "Epoch 13: ReduceLROnPlateau reducing learning rate to 2.499999936844688e-05.\n",
      "\n",
      "Epoch 14: val_loss did not improve from 3.35181\n",
      "Epoch 14: early stopping\n",
      "Restoring model weights from the end of the best epoch: 7.\n",
      "✅ Training completed with regularization techniques\n"
     ]
    }
   ],
   "source": [
    "history = model.fit(\n",
    "    X_train, y_train,\n",
    "    validation_data=(X_val, y_val),\n",
    "    epochs=50,  # More epochs but with early stopping\n",
    "    batch_size=32,\n",
    "    verbose=0,\n",
    "    callbacks=[\n",
    "        ModelCheckpoint(\n",
    "            Path(\"models/v4_regularized_model.keras\"), \n",
    "            save_best_only=True,\n",
    "            monitor='val_loss',\n",
    "            verbose=1\n",
    "        ),\n",
    "        early_stop,\n",
    "        lr_reduce,\n",
    "        tqdm_callback\n",
    "    ]\n",
    ")\n",
    "\n",
    "print(\"✅ Training completed with regularization techniques\")"
   ]
  },
  {
   "cell_type": "code",
   "execution_count": 133,
   "id": "cfff56b5",
   "metadata": {},
   "outputs": [
    {
     "data": {
      "image/png": "[encoded data removed]",
      "text/plain": [
       "<Figure size 1600x600 with 3 Axes>"
      ]
     },
     "metadata": {},
     "output_type": "display_data"
    },
    {
     "name": "stdout",
     "output_type": "stream",
     "text": [
      "📊 Training Summary:\n",
      "Final Train Accuracy: 0.3262\n",
      "Final Val Accuracy: 0.0243\n",
      "Accuracy Gap: 0.3019\n",
      "🚨 Severe overfitting detected!\n"
     ]
    }
   ],
   "source": [
    "def plot_training_history(history):\n",
    "    plt.figure(figsize=(16, 6))\n",
    "\n",
    "    # 🎯 Accuracy\n",
    "    plt.subplot(1, 3, 1)\n",
    "    plt.plot(history.history['accuracy'], label='Train Accuracy', linewidth=2)\n",
    "    plt.plot(history.history['val_accuracy'], label='Val Accuracy', linewidth=2)\n",
    "    plt.xlabel('Epoch')\n",
    "    plt.ylabel('Accuracy')\n",
    "    plt.title('Accuracy over Epochs')\n",
    "    plt.legend()\n",
    "    plt.grid(True)\n",
    "    \n",
    "    # Check for overfitting\n",
    "    train_acc = history.history['accuracy'][-1]\n",
    "    val_acc = history.history['val_accuracy'][-1]\n",
    "    if train_acc - val_acc > 0.1:\n",
    "        plt.text(0.5, 0.95, f'⚠️ Overfitting detected!\\nTrain: {train_acc:.3f}\\nVal: {val_acc:.3f}', \n",
    "                transform=plt.gca().transAxes, bbox=dict(boxstyle=\"round\", facecolor='yellow', alpha=0.7))\n",
    "\n",
    "    # 📉 Loss\n",
    "    plt.subplot(1, 3, 2)\n",
    "    plt.plot(history.history['loss'], label='Train Loss', linewidth=2)\n",
    "    plt.plot(history.history['val_loss'], label='Val Loss', linewidth=2)\n",
    "    plt.xlabel('Epoch')\n",
    "    plt.ylabel('Loss')\n",
    "    plt.title('Loss over Epochs')\n",
    "    plt.legend()\n",
    "    plt.grid(True)\n",
    "    \n",
    "    # Gap analysis\n",
    "    plt.subplot(1, 3, 3)\n",
    "    acc_gap = np.array(history.history['accuracy']) - np.array(history.history['val_accuracy'])\n",
    "    plt.plot(acc_gap, label='Accuracy Gap (Train - Val)', color='red', linewidth=2)\n",
    "    plt.axhline(y=0.1, color='orange', linestyle='--', label='Overfitting Threshold (0.1)')\n",
    "    plt.xlabel('Epoch')\n",
    "    plt.ylabel('Gap')\n",
    "    plt.title('Overfitting Analysis')\n",
    "    plt.legend()\n",
    "    plt.grid(True)\n",
    "\n",
    "    plt.tight_layout()\n",
    "    plt.show()\n",
    "    \n",
    "    # Print summary\n",
    "    final_train_acc = history.history['accuracy'][-1]\n",
    "    final_val_acc = history.history['val_accuracy'][-1]\n",
    "    gap = final_train_acc - final_val_acc\n",
    "    \n",
    "    print(f\"📊 Training Summary:\")\n",
    "    print(f\"Final Train Accuracy: {final_train_acc:.4f}\")\n",
    "    print(f\"Final Val Accuracy: {final_val_acc:.4f}\")\n",
    "    print(f\"Accuracy Gap: {gap:.4f}\")\n",
    "    \n",
    "    if gap > 0.15:\n",
    "        print(\"🚨 Severe overfitting detected!\")\n",
    "    elif gap > 0.1:\n",
    "        print(\"⚠️ Moderate overfitting detected\")\n",
    "    else:\n",
    "        print(\"✅ Good generalization\")\n",
    "\n",
    "plot_training_history(history)"
   ]
  },
  {
   "cell_type": "code",
   "execution_count": 110,
   "id": "b070c069",
   "metadata": {},
   "outputs": [
    {
     "name": "stdout",
     "output_type": "stream",
     "text": [
      "🔍 Found 330 .npy files in ../features/test\n"
     ]
    },
    {
     "data": {
      "application/vnd.jupyter.widget-view+json": {
       "model_id": "26039f33ebdf46df8dfe670a3cf6c947",
       "version_major": 2,
       "version_minor": 0
      },
      "text/plain": [
       "Loading test data:   0%|          | 0/330 [00:00<?, ?files/s]"
      ]
     },
     "metadata": {},
     "output_type": "display_data"
    }
   ],
   "source": [
    "X_test,   y_test_str   = load_feature_dir(Path(f\"{FEATURES_DIR}/test\"),   target_shape=(64, 421, 1))\n",
    "\n",
    "inverse_label_map = {v: k for k, v in LABEL_MAP.items()}\n",
    "y_test_names = [inverse_label_map[y] if isinstance(y, int) else y for y in y_test_str]\n",
    "\n",
    "\n",
    "# 🔁 Encode labels\n",
    "encoder = LabelEncoder()\n",
    "encoder.fit(list(LABEL_MAP.keys()))  # ใช้ label map เดิม\n",
    "y_test = encoder.transform(y_test_names)"
   ]
  },
  {
   "cell_type": "code",
   "execution_count": 114,
   "id": "5015572d",
   "metadata": {},
   "outputs": [
    {
     "name": "stdout",
     "output_type": "stream",
     "text": [
      "🔍 Making predictions on test set...\n",
      "\u001b[1m11/11\u001b[0m \u001b[32m━━━━━━━━━━━━━━━━━━━━\u001b[0m\u001b[37m\u001b[0m \u001b[1m1s\u001b[0m 49ms/step\n",
      "📊 Computing confusion matrix...\n"
     ]
    },
    {
     "data": {
      "image/png": "[encoded data removed]",
      "text/plain": [
       "<Figure size 1200x1000 with 2 Axes>"
      ]
     },
     "metadata": {},
     "output_type": "display_data"
    },
    {
     "name": "stdout",
     "output_type": "stream",
     "text": [
      "🎯 Classification Report - Focal Loss + Audio Augmentation:\n",
      "              precision    recall  f1-score   support\n",
      "\n",
      "          ak       0.49      0.60      0.54        62\n",
      "         aug       0.67      0.33      0.44         6\n",
      "         awm       0.20      0.20      0.20         5\n",
      "         dbs       0.00      0.00      0.00         4\n",
      "      deagle       0.00      0.00      0.00        11\n",
      "          dp       0.00      0.00      0.00         8\n",
      "        g36c       0.00      0.00      0.00         3\n",
      "         gro       0.00      0.00      0.00         5\n",
      "          k2       0.25      0.17      0.20         6\n",
      "         kar       1.00      0.67      0.80         3\n",
      "         m16       0.00      0.00      0.00         1\n",
      "         m24       0.82      0.92      0.87        50\n",
      "        m249       0.25      0.33      0.29         3\n",
      "          m4       0.46      0.71      0.56        68\n",
      "        mini       0.50      0.20      0.29         5\n",
      "          mk       0.00      0.00      0.00         3\n",
      "       nogun       0.67      0.50      0.57         4\n",
      "        p18c       0.00      0.00      0.00         4\n",
      "       p1911       0.00      0.00      0.00         0\n",
      "         p90       0.00      0.00      0.00         6\n",
      "         p92       0.00      0.00      0.00         5\n",
      "          pp       0.00      0.00      0.00         2\n",
      "        pump       0.00      0.00      0.00         1\n",
      "         qbu       0.00      0.00      0.00         2\n",
      "         qbz       0.00      0.00      0.00         5\n",
      "       r1895       0.00      0.00      0.00         3\n",
      "         r45       0.00      0.00      0.00         3\n",
      "        s12k       0.50      0.67      0.57         3\n",
      "        scar       0.00      0.00      0.00         6\n",
      "         sks       0.50      0.25      0.33         8\n",
      "         slr       0.00      0.00      0.00         5\n",
      "         ump       0.00      0.00      0.00         7\n",
      "         uzi       0.00      0.00      0.00         4\n",
      "         vec       0.00      0.00      0.00         3\n",
      "        verl       0.00      0.00      0.00         5\n",
      "         vss       0.60      0.50      0.55         6\n",
      "         win       0.00      0.00      0.00         5\n",
      "\n",
      "    accuracy                           0.45       330\n",
      "   macro avg       0.19      0.16      0.17       330\n",
      "weighted avg       0.39      0.45      0.41       330\n",
      "\n"
     ]
    },
    {
     "name": "stderr",
     "output_type": "stream",
     "text": [
      "/Users/ittichaiboonyarakthunya/Documents/WorkDir/ai-ml/labs-gunshot-classification/.venv/lib/python3.11/site-packages/sklearn/metrics/_classification.py:1706: UndefinedMetricWarning:\n",
      "\n",
      "Precision is ill-defined and being set to 0.0 in labels with no predicted samples. Use `zero_division` parameter to control this behavior.\n",
      "\n",
      "/Users/ittichaiboonyarakthunya/Documents/WorkDir/ai-ml/labs-gunshot-classification/.venv/lib/python3.11/site-packages/sklearn/metrics/_classification.py:1706: UndefinedMetricWarning:\n",
      "\n",
      "Recall is ill-defined and being set to 0.0 in labels with no true samples. Use `zero_division` parameter to control this behavior.\n",
      "\n",
      "/Users/ittichaiboonyarakthunya/Documents/WorkDir/ai-ml/labs-gunshot-classification/.venv/lib/python3.11/site-packages/sklearn/metrics/_classification.py:1706: UndefinedMetricWarning:\n",
      "\n",
      "Precision is ill-defined and being set to 0.0 in labels with no predicted samples. Use `zero_division` parameter to control this behavior.\n",
      "\n",
      "/Users/ittichaiboonyarakthunya/Documents/WorkDir/ai-ml/labs-gunshot-classification/.venv/lib/python3.11/site-packages/sklearn/metrics/_classification.py:1706: UndefinedMetricWarning:\n",
      "\n",
      "Recall is ill-defined and being set to 0.0 in labels with no true samples. Use `zero_division` parameter to control this behavior.\n",
      "\n",
      "/Users/ittichaiboonyarakthunya/Documents/WorkDir/ai-ml/labs-gunshot-classification/.venv/lib/python3.11/site-packages/sklearn/metrics/_classification.py:1706: UndefinedMetricWarning:\n",
      "\n",
      "Precision is ill-defined and being set to 0.0 in labels with no predicted samples. Use `zero_division` parameter to control this behavior.\n",
      "\n",
      "/Users/ittichaiboonyarakthunya/Documents/WorkDir/ai-ml/labs-gunshot-classification/.venv/lib/python3.11/site-packages/sklearn/metrics/_classification.py:1706: UndefinedMetricWarning:\n",
      "\n",
      "Recall is ill-defined and being set to 0.0 in labels with no true samples. Use `zero_division` parameter to control this behavior.\n",
      "\n"
     ]
    }
   ],
   "source": [
    "# Model Evaluation with Focal Loss and Augmentation\n",
    "print(\"🔍 Making predictions on test set...\")\n",
    "y_pred_probs = model.predict(X_test, verbose=1)  # Show progress for predictions\n",
    "y_preds = np.argmax(y_pred_probs, axis=1)\n",
    "\n",
    "print(\"📊 Computing confusion matrix...\")\n",
    "cm = confusion_matrix(y_test, y_preds)\n",
    "\n",
    "plt.figure(figsize=(12, 10))\n",
    "sns.heatmap(cm, annot=True, fmt='d', xticklabels=encoder.classes_, yticklabels=encoder.classes_, cmap=\"Blues\")\n",
    "plt.xlabel(\"Predicted\")\n",
    "plt.ylabel(\"Actual\")\n",
    "plt.title(\"Confusion Matrix - Focal Loss + Audio Augmentation Model\")\n",
    "plt.tight_layout()\n",
    "plt.show()\n",
    "\n",
    "# Print detailed classification report - fix the class mismatch\n",
    "print(\"🎯 Classification Report - Focal Loss + Audio Augmentation:\")\n",
    "unique_classes = np.unique(np.concatenate([y_test, y_preds]))\n",
    "target_names = [encoder.classes_[i] for i in unique_classes]\n",
    "print(classification_report(y_test, y_preds, labels=unique_classes, target_names=target_names))\n"
   ]
  },
  {
   "cell_type": "code",
   "execution_count": 116,
   "id": "d51bb4a3",
   "metadata": {},
   "outputs": [
    {
     "name": "stdout",
     "output_type": "stream",
     "text": [
      "📈 Computing detailed metrics...\n",
      "\n",
      "📊 Per-Class Performance Metrics:\n",
      "     Class  Precision    Recall  F1-Score  Support\n",
      "18   p1911   0.000000  0.000000  0.000000        0\n",
      "10     m16   0.000000  0.000000  0.000000        1\n",
      "22    pump   0.000000  0.000000  0.000000        1\n",
      "23     qbu   0.000000  0.000000  0.000000        2\n",
      "21      pp   0.000000  0.000000  0.000000        2\n",
      "6     g36c   0.000000  0.000000  0.000000        3\n",
      "27    s12k   0.500000  0.666667  0.571429        3\n",
      "26     r45   0.000000  0.000000  0.000000        3\n",
      "33     vec   0.000000  0.000000  0.000000        3\n",
      "25   r1895   0.000000  0.000000  0.000000        3\n",
      "12    m249   0.250000  0.333333  0.285714        3\n",
      "15      mk   0.000000  0.000000  0.000000        3\n",
      "9      kar   1.000000  0.666667  0.800000        3\n",
      "3      dbs   0.000000  0.000000  0.000000        4\n",
      "16   nogun   0.666667  0.500000  0.571429        4\n",
      "17    p18c   0.000000  0.000000  0.000000        4\n",
      "32     uzi   0.000000  0.000000  0.000000        4\n",
      "30     slr   0.000000  0.000000  0.000000        5\n",
      "24     qbz   0.000000  0.000000  0.000000        5\n",
      "34    verl   0.000000  0.000000  0.000000        5\n",
      "36     win   0.000000  0.000000  0.000000        5\n",
      "14    mini   0.500000  0.200000  0.285714        5\n",
      "7      gro   0.000000  0.000000  0.000000        5\n",
      "2      awm   0.200000  0.200000  0.200000        5\n",
      "20     p92   0.000000  0.000000  0.000000        5\n",
      "19     p90   0.000000  0.000000  0.000000        6\n",
      "35     vss   0.600000  0.500000  0.545455        6\n",
      "8       k2   0.250000  0.166667  0.200000        6\n",
      "28    scar   0.000000  0.000000  0.000000        6\n",
      "1      aug   0.666667  0.333333  0.444444        6\n",
      "31     ump   0.000000  0.000000  0.000000        7\n",
      "29     sks   0.500000  0.250000  0.333333        8\n",
      "5       dp   0.000000  0.000000  0.000000        8\n",
      "4   deagle   0.000000  0.000000  0.000000       11\n",
      "11     m24   0.821429  0.920000  0.867925       50\n",
      "0       ak   0.493333  0.596774  0.540146       62\n",
      "13      m4   0.461538  0.705882  0.558140       68\n",
      "\n",
      "🎯 Minority Classes Performance (support < 10):\n",
      "Average F1-Score for minority classes: 0.128\n",
      "Average Recall for minority classes: 0.116\n",
      "Average Precision for minority classes: 0.156\n",
      "\n",
      "📈 Overall Performance:\n",
      "Macro Average F1-Score: 0.168\n",
      "Weighted Average F1-Score: 0.407\n",
      "\n",
      "🔧 Debug Info:\n",
      "Total encoder classes: 38\n",
      "Unique classes in test+pred: 37\n",
      "Missing classes: {31}\n"
     ]
    },
    {
     "name": "stderr",
     "output_type": "stream",
     "text": [
      "/Users/ittichaiboonyarakthunya/Documents/WorkDir/ai-ml/labs-gunshot-classification/.venv/lib/python3.11/site-packages/sklearn/metrics/_classification.py:1706: UndefinedMetricWarning:\n",
      "\n",
      "Precision is ill-defined and being set to 0.0 in labels with no predicted samples. Use `zero_division` parameter to control this behavior.\n",
      "\n",
      "/Users/ittichaiboonyarakthunya/Documents/WorkDir/ai-ml/labs-gunshot-classification/.venv/lib/python3.11/site-packages/sklearn/metrics/_classification.py:1706: UndefinedMetricWarning:\n",
      "\n",
      "Recall is ill-defined and being set to 0.0 in labels with no true samples. Use `zero_division` parameter to control this behavior.\n",
      "\n"
     ]
    }
   ],
   "source": [
    "print(\"📈 Computing detailed metrics...\")\n",
    "precision, recall, f1, support = precision_recall_fscore_support(y_test, y_preds, average=None, labels=unique_classes)\n",
    "\n",
    "# Create a DataFrame for easier analysis\n",
    "results_df = pd.DataFrame({\n",
    "    'Class': target_names,\n",
    "    'Precision': precision,\n",
    "    'Recall': recall,\n",
    "    'F1-Score': f1,\n",
    "    'Support': support\n",
    "})\n",
    "\n",
    "print(\"\\n📊 Per-Class Performance Metrics:\")\n",
    "print(results_df.sort_values('Support'))\n",
    "\n",
    "# Focus on minority classes (support < 10)\n",
    "minority_classes = results_df[results_df['Support'] < 10]\n",
    "if not minority_classes.empty:\n",
    "    print(f\"\\n🎯 Minority Classes Performance (support < 10):\")\n",
    "    print(f\"Average F1-Score for minority classes: {minority_classes['F1-Score'].mean():.3f}\")\n",
    "    print(f\"Average Recall for minority classes: {minority_classes['Recall'].mean():.3f}\")\n",
    "    print(f\"Average Precision for minority classes: {minority_classes['Precision'].mean():.3f}\")\n",
    "\n",
    "print(f\"\\n📈 Overall Performance:\")\n",
    "print(f\"Macro Average F1-Score: {f1.mean():.3f}\")\n",
    "print(f\"Weighted Average F1-Score: {np.average(f1, weights=support):.3f}\")\n",
    "\n",
    "# Debug information\n",
    "print(f\"\\n🔧 Debug Info:\")\n",
    "print(f\"Total encoder classes: {len(encoder.classes_)}\")\n",
    "print(f\"Unique classes in test+pred: {len(unique_classes)}\")\n",
    "print(f\"Missing classes: {set(range(len(encoder.classes_))) - set(unique_classes)}\")"
   ]
  }
 ],
 "metadata": {
  "kernelspec": {
   "display_name": ".venv",
   "language": "python",
   "name": "python3"
  },
  "language_info": {
   "codemirror_mode": {
    "name": "ipython",
    "version": 3
   },
   "file_extension": ".py",
   "mimetype": "text/x-python",
   "name": "python",
   "nbconvert_exporter": "python",
   "pygments_lexer": "ipython3",
   "version": "3.11.4"
  }
 },
 "nbformat": 4,
 "nbformat_minor": 5
}
