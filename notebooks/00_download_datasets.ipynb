{
 "cells": [
  {
   "cell_type": "code",
   "execution_count": 2,
   "id": "2d6476ed",
   "metadata": {},
   "outputs": [],
   "source": [
    "import os\n",
    "import zipfile\n",
    "import shutil\n",
    "import requests\n",
    "from pathlib import Path\n",
    "import pandas as pd\n",
    "from tqdm.notebook import tqdm"
   ]
  },
  {
   "cell_type": "code",
   "execution_count": 3,
   "id": "29c5ffca",
   "metadata": {},
   "outputs": [],
   "source": [
    "def get_project_root():\n",
    "    try:\n",
    "        # Script mode\n",
    "        return Path(__file__).resolve().parents[1]\n",
    "    except NameError:\n",
    "        # Notebook or interactive mode\n",
    "        return Path.cwd().parents[0]\n"
   ]
  },
  {
   "cell_type": "code",
   "execution_count": 4,
   "id": "8babc2c6",
   "metadata": {},
   "outputs": [],
   "source": [
    "ROOT_DIR = get_project_root()\n",
    "AUDIO_DATA_DIR = ROOT_DIR / \"audio_data\"\n",
    "AUDIO_DATA_DIR.mkdir(parents=True, exist_ok=True)\n",
    "\n",
    "DOWNLOADS = [\n",
    "    {\n",
    "        \"name\": \"UrbanSound8K\",\n",
    "        \"url\": \"https://zenodo.org/record/1203745/files/UrbanSound8K.tar.gz\",\n",
    "        \"filename\": \"UrbanSound8K.tar.gz\",\n",
    "        \"extract_folder\": \"urbansound8k\"\n",
    "    },\n",
    "    {\n",
    "        \"name\": \"FSD50K Dev Audio\",\n",
    "        \"url\": \"https://zenodo.org/record/4060432/files/FSD50K.dev_audio.tar.gz\",\n",
    "        \"filename\": \"FSD50K.dev_audio.tar.gz\",\n",
    "        \"extract_folder\": \"fsd50k_dev_audio\"\n",
    "    }\n",
    "]\n",
    "\n",
    "# === Config ===\n",
    "DOWNLOAD_URL = \"https://github.com/karoldvl/ESC-50/archive/master.zip\"\n",
    "ARCHIVE_NAME = \"ESC-50-master.zip\"\n",
    "EXTRACT_DIR = Path(\"audio_data/ESC-50-master\")\n",
    "GUNSHOT_DIR = Path(\"audio_data/ESC50_gunshot\")"
   ]
  },
  {
   "cell_type": "code",
   "execution_count": 13,
   "id": "eb456e6b",
   "metadata": {},
   "outputs": [],
   "source": [
    "def download_and_extract(url, filename, extract_subdir):\n",
    "    archive_path = AUDIO_DATA_DIR / filename\n",
    "    extract_path = AUDIO_DATA_DIR / extract_subdir\n",
    "\n",
    "    # Download\n",
    "    if not archive_path.exists():\n",
    "        print(f\"⬇️ Downloading: {filename}\")\n",
    "        with requests.get(url, stream=True) as r:\n",
    "            r.raise_for_status()\n",
    "            with open(archive_path, 'wb') as f:\n",
    "                for chunk in r.iter_content(chunk_size=8192):\n",
    "                    f.write(chunk)\n",
    "        print(f\"✅ Downloaded {archive_path}\")\n",
    "    else:\n",
    "        print(f\"✅ Already downloaded: {archive_path}\")\n",
    "\n",
    "    # Extract\n",
    "    if extract_path.exists() and any(extract_path.iterdir()):\n",
    "        print(f\"✅ Already extracted: {extract_path}\")\n",
    "        return\n",
    "\n",
    "    print(f\"📦 Extracting to: {extract_path}\")\n",
    "    extract_path.mkdir(parents=True, exist_ok=True)\n",
    "    if filename.endswith(\".zip\"):\n",
    "        with zipfile.ZipFile(archive_path, \"r\") as zip_ref:\n",
    "            zip_ref.extractall(extract_path)\n",
    "    elif filename.endswith(\".tar.gz\"):\n",
    "        with tarfile.open(archive_path, \"r:gz\") as tar_ref:\n",
    "            tar_ref.extractall(extract_path)\n",
    "    print(f\"✅ Extracted to: {extract_path}\")"
   ]
  },
  {
   "cell_type": "code",
   "execution_count": null,
   "id": "44701688",
   "metadata": {},
   "outputs": [],
   "source": [
    "for d in DOWNLOADS:   \n",
    "    download_and_extract(d[\"url\"], d[\"filename\"], d[\"extract_folder\"])"
   ]
  },
  {
   "cell_type": "code",
   "execution_count": 27,
   "id": "049b2e76",
   "metadata": {},
   "outputs": [],
   "source": [
    "def download_with_progress(url, output_path):\n",
    "    \"\"\"Download file using requests + tqdm progress bar\"\"\"\n",
    "    response = requests.get(url, stream=True)\n",
    "    total_size = int(response.headers.get(\"content-length\", 0))\n",
    "    block_size = 1024  # 1KB\n",
    "    progress_bar = tqdm(total=total_size, unit='B', unit_scale=True, desc=output_path.name)\n",
    "\n",
    "    with open(output_path, \"wb\") as f:\n",
    "        for data in response.iter_content(block_size):\n",
    "            progress_bar.update(len(data))\n",
    "            f.write(data)\n",
    "    progress_bar.close()\n",
    "\n",
    "\n",
    "def download_esc50():\n",
    "    if not Path(ARCHIVE_NAME).exists():\n",
    "        print(\"⬇️ Downloading ESC-50...\")\n",
    "        download_with_progress(DOWNLOAD_URL, Path(ARCHIVE_NAME))\n",
    "        print(\"✅ Downloaded.\")\n",
    "    else:\n",
    "        print(\"⚠️ ESC-50 ZIP already exists.\")\n",
    "\n",
    "\n",
    "def extract_zip():\n",
    "    if not EXTRACT_DIR.exists():\n",
    "        print(\"📦 Extracting ZIP...\")\n",
    "        with zipfile.ZipFile(ARCHIVE_NAME, \"r\") as zip_ref:\n",
    "            zip_ref.extractall(\"audio_data\")\n",
    "        print(\"✅ Extracted.\")\n",
    "    else:\n",
    "        print(\"⚠️ Already extracted.\")\n",
    "\n",
    "\n",
    "def filter_gunshot():\n",
    "    meta_csv = EXTRACT_DIR / \"meta/esc50.csv\"\n",
    "    audio_dir = EXTRACT_DIR / \"audio\"\n",
    "    \n",
    "    if not meta_csv.exists():\n",
    "        raise FileNotFoundError(\"Metadata CSV not found\")\n",
    "\n",
    "    df = pd.read_csv(meta_csv)\n",
    "    df_gun = df[df['category'] == 'gun_shot']\n",
    "\n",
    "    print(f\"🔫 Found {len(df_gun)} gun_shot samples.\")\n",
    "\n",
    "    GUNSHOT_DIR.mkdir(parents=True, exist_ok=True)\n",
    "\n",
    "    for fname in df_gun['filename']:\n",
    "        src = audio_dir / fname\n",
    "        dst = GUNSHOT_DIR / fname\n",
    "        if src.exists():\n",
    "            shutil.copy(src, dst)\n",
    "\n",
    "    print(f\"✅ Copied to: {GUNSHOT_DIR.resolve()}\")"
   ]
  },
  {
   "cell_type": "code",
   "execution_count": 28,
   "id": "9d10eb76",
   "metadata": {},
   "outputs": [
    {
     "name": "stdout",
     "output_type": "stream",
     "text": [
      "⬇️ Downloading ESC-50...\n"
     ]
    },
    {
     "name": "stderr",
     "output_type": "stream",
     "text": [
      "ESC-50-master.zip: 646MB [02:24, 4.46MB/s] \n"
     ]
    },
    {
     "name": "stdout",
     "output_type": "stream",
     "text": [
      "✅ Downloaded.\n",
      "📦 Extracting ZIP...\n",
      "✅ Extracted.\n",
      "🔫 Found 0 gun_shot samples.\n",
      "✅ Copied to: /Users/ittichaiboonyarakthunya/Documents/WorkDir/ai-ml/labs-gunshot-classification/notebooks/audio_data/esc50_gunshot\n"
     ]
    }
   ],
   "source": [
    "download_esc50()\n",
    "extract_zip()\n",
    "filter_gunshot()"
   ]
  },
  {
   "cell_type": "code",
   "execution_count": 31,
   "id": "4ac6fdc2",
   "metadata": {},
   "outputs": [
    {
     "name": "stdout",
     "output_type": "stream",
     "text": [
      "✅ Unique categories:\n",
      " ['dog' 'chirping_birds' 'vacuum_cleaner' 'thunderstorm' 'door_wood_knock'\n",
      " 'can_opening' 'crow' 'clapping' 'fireworks' 'chainsaw' 'airplane'\n",
      " 'mouse_click' 'pouring_water' 'train' 'sheep' 'water_drops'\n",
      " 'church_bells' 'clock_alarm' 'keyboard_typing' 'wind' 'footsteps' 'frog'\n",
      " 'cow' 'brushing_teeth' 'car_horn' 'crackling_fire' 'helicopter'\n",
      " 'drinking_sipping' 'rain' 'insects' 'laughing' 'hen' 'engine' 'breathing'\n",
      " 'crying_baby' 'hand_saw' 'coughing' 'glass_breaking' 'snoring'\n",
      " 'toilet_flush' 'pig' 'washing_machine' 'clock_tick' 'sneezing' 'rooster'\n",
      " 'sea_waves' 'siren' 'cat' 'door_wood_creaks' 'crickets']\n"
     ]
    }
   ],
   "source": [
    "df = pd.read_csv(f\"{AUDIO_DATA_DIR}/ESC-50-master/meta/esc50.csv\")\n",
    "print(\"✅ Unique categories:\\n\", df['category'].unique())"
   ]
  },
  {
   "cell_type": "code",
   "execution_count": 38,
   "id": "gcc6zzt5t39",
   "metadata": {},
   "outputs": [],
   "source": [
    "URBANSOUND8K_ZIP_URL = \"https://zenodo.org/record/1203745/files/UrbanSound8K.tar.gz\"\n",
    "URBANSOUND8K_ZIP_NAME = (\"../audio_data/UrbanSound8K.tar.gz\")\n",
    "EXTRACT_BASE_DIR = Path(\"../audio_data/UrbanSound8K\")\n",
    "GUNSHOT_DIR = Path(\"../audio_data/UrbanSound8K_gunshot\")\n",
    "METADATA_CSV = EXTRACT_BASE_DIR / \"metadata\" / \"UrbanSound8K.csv\""
   ]
  },
  {
   "cell_type": "code",
   "execution_count": 34,
   "id": "a2c140be",
   "metadata": {},
   "outputs": [],
   "source": [
    "def download_with_progress(url, output_path):\n",
    "    response = requests.get(url, stream=True)\n",
    "    total_size = int(response.headers.get(\"content-length\", 0))\n",
    "    block_size = 1024\n",
    "    progress_bar = tqdm(total=total_size, unit='B', unit_scale=True, desc=output_path.name)\n",
    "    with open(output_path, \"wb\") as f:\n",
    "        for data in response.iter_content(block_size):\n",
    "            progress_bar.update(len(data))\n",
    "            f.write(data)\n",
    "    progress_bar.close()\n",
    "\n",
    "def download_metadata_csv():\n",
    "    # UrbanSound8K metadata CSV is part of the archive,\n",
    "    # but to avoid full download, we can download metadata only from GitHub repo:\n",
    "    meta_url = \"https://raw.githubusercontent.com/urbansounddataset/urbansound8k/master/metadata/UrbanSound8K.csv\"\n",
    "    meta_path = EXTRACT_BASE_DIR / \"metadata\"\n",
    "    meta_path.mkdir(parents=True, exist_ok=True)\n",
    "    meta_csv_path = meta_path / \"UrbanSound8K.csv\"\n",
    "    if not meta_csv_path.exists():\n",
    "        print(\"⬇️ Downloading UrbanSound8K metadata CSV...\")\n",
    "        download_with_progress(meta_url, meta_csv_path)\n",
    "    else:\n",
    "        print(\"⚠️ Metadata CSV already exists.\")\n",
    "    return meta_csv_path\n",
    "\n",
    "def extract_gunshot_files_from_archive(archive_path, metadata_csv_path, output_dir):\n",
    "    import tarfile\n",
    "\n",
    "    df = pd.read_csv(metadata_csv_path)\n",
    "    gunshot_files = df[df['class'] == 'gun_shot']\n",
    "    print(f\"🔫 Found {len(gunshot_files)} gun_shot samples in metadata.\")\n",
    "\n",
    "    output_dir.mkdir(parents=True, exist_ok=True)\n",
    "\n",
    "    with tarfile.open(archive_path, \"r:gz\") as tar:\n",
    "        members = tar.getmembers()\n",
    "\n",
    "        # Debug: preview archive structure\n",
    "        print(\"\\n📦 Archive structure preview:\")\n",
    "        for m in members[:10]:\n",
    "            print(\" -\", m.name)\n",
    "\n",
    "        # Build expected file paths\n",
    "        files_to_extract = set()\n",
    "        for _, row in gunshot_files.iterrows():\n",
    "            rel_path = f\"UrbanSound8K/audio/fold{row['fold']}/{row['slice_file_name']}\"\n",
    "            files_to_extract.add(rel_path)\n",
    "\n",
    "        # Debug: preview expected match targets\n",
    "        print(\"\\n📋 First few expected paths to extract:\")\n",
    "        for p in list(files_to_extract)[:5]:\n",
    "            print(\" -\", p)\n",
    "\n",
    "        print(f\"\\n🎯 Extracting {len(files_to_extract)} gun_shot files...\")\n",
    "        extracted_count = 0\n",
    "\n",
    "        for member in tqdm(members, desc=\"Extracting files\"):\n",
    "            if any(member.name.endswith(p) for p in files_to_extract):\n",
    "                f = tar.extractfile(member)\n",
    "                if f is not None:\n",
    "                    out_file_path = output_dir / Path(member.name).name\n",
    "                    with open(out_file_path, \"wb\") as out_f:\n",
    "                        out_f.write(f.read())\n",
    "                    extracted_count += 1\n",
    "\n",
    "    print(f\"✅ Extracted {extracted_count} files to {output_dir.resolve()}\")\n"
   ]
  },
  {
   "cell_type": "code",
   "execution_count": 14,
   "id": "a04551e1",
   "metadata": {},
   "outputs": [
    {
     "data": {
      "text/plain": [
       "PosixPath('audio_data/UrbanSound8K.tar.gz')"
      ]
     },
     "execution_count": 14,
     "metadata": {},
     "output_type": "execute_result"
    }
   ],
   "source": [
    "URBANSOUND8K_ZIP_NAME"
   ]
  },
  {
   "cell_type": "code",
   "execution_count": 15,
   "id": "c2e92951",
   "metadata": {},
   "outputs": [
    {
     "name": "stdout",
     "output_type": "stream",
     "text": [
      "⚠️ Archive already exists.\n"
     ]
    }
   ],
   "source": [
    "if not Path(URBANSOUND8K_ZIP_NAME).exists():\n",
    "    print(\"⬇️ Downloading UrbanSound8K archive (4GB+)...\")\n",
    "    download_with_progress(URBANSOUND8K_ZIP_URL, Path(URBANSOUND8K_ZIP_NAME))\n",
    "else:\n",
    "    print(\"⚠️ Archive already exists.\")"
   ]
  },
  {
   "cell_type": "code",
   "execution_count": 18,
   "id": "1ce77e85",
   "metadata": {},
   "outputs": [
    {
     "name": "stdout",
     "output_type": "stream",
     "text": [
      "⚠️ Metadata CSV already exists.\n"
     ]
    },
    {
     "data": {
      "text/plain": [
       "PosixPath('audio_data/UrbanSound8K/metadata/UrbanSound8K.csv')"
      ]
     },
     "execution_count": 18,
     "metadata": {},
     "output_type": "execute_result"
    }
   ],
   "source": [
    "# Step 2: Download metadata CSV if needed\n",
    "metadata_csv_path = download_metadata_csv()\n",
    "metadata_csv_path"
   ]
  },
  {
   "cell_type": "code",
   "execution_count": 24,
   "id": "f8abc2ee",
   "metadata": {},
   "outputs": [
    {
     "name": "stdout",
     "output_type": "stream",
     "text": [
      "audio_data/UrbanSound8K.tar.gz\n",
      "audio_data/UrbanSound8K/metadata/UrbanSound8K.csv\n",
      "audio_data/UrbanSound8K_gunshot\n"
     ]
    }
   ],
   "source": [
    "print(Path(URBANSOUND8K_ZIP_NAME))\n",
    "print(metadata_csv_path)\n",
    "print(GUNSHOT_DIR)"
   ]
  },
  {
   "cell_type": "code",
   "execution_count": 36,
   "id": "cd312a56",
   "metadata": {},
   "outputs": [],
   "source": [
    "audio_metadata_dir = (\"../audio_data/UrbanSound8K/metadata/UrbanSound8K.csv\")"
   ]
  },
  {
   "cell_type": "code",
   "execution_count": 39,
   "id": "d77bf1e0",
   "metadata": {},
   "outputs": [
    {
     "name": "stdout",
     "output_type": "stream",
     "text": [
      "🔫 Found 374 gun_shot samples in metadata.\n",
      "\n",
      "📦 Archive structure preview:\n",
      " - UrbanSound8K\n",
      " - UrbanSound8K/.DS_Store\n",
      " - UrbanSound8K/audio\n",
      " - UrbanSound8K/audio/.DS_Store\n",
      " - UrbanSound8K/audio/fold1\n",
      " - UrbanSound8K/audio/fold1/.DS_Store\n",
      " - UrbanSound8K/audio/fold1/101415-3-0-2.wav\n",
      " - UrbanSound8K/audio/fold1/101415-3-0-3.wav\n",
      " - UrbanSound8K/audio/fold1/101415-3-0-8.wav\n",
      " - UrbanSound8K/audio/fold1/102106-3-0-0.wav\n",
      "\n",
      "📋 First few expected paths to extract:\n",
      " - UrbanSound8K/audio/fold5/164667-6-0-0.wav\n",
      " - UrbanSound8K/audio/fold3/135526-6-6-0.wav\n",
      " - UrbanSound8K/audio/fold1/76093-6-0-0.wav\n",
      " - UrbanSound8K/audio/fold4/135528-6-3-0.wav\n",
      " - UrbanSound8K/audio/fold1/46656-6-3-0.wav\n",
      "\n",
      "🎯 Extracting 374 gun_shot files...\n"
     ]
    },
    {
     "data": {
      "application/vnd.jupyter.widget-view+json": {
       "model_id": "2e13e2b2ce5f48d8a83f6556d140d842",
       "version_major": 2,
       "version_minor": 0
      },
      "text/plain": [
       "Extracting files:   0%|          | 0/8761 [00:00<?, ?it/s]"
      ]
     },
     "metadata": {},
     "output_type": "display_data"
    },
    {
     "name": "stdout",
     "output_type": "stream",
     "text": [
      "✅ Extracted 374 files to /Users/ittichaiboonyarakthunya/Documents/WorkDir/ai-ml/labs-gunshot-classification/audio_data/UrbanSound8K_gunshot\n"
     ]
    }
   ],
   "source": [
    "# Step 3: Extract only gun_shot files\n",
    "extract_gunshot_files_from_archive(Path(URBANSOUND8K_ZIP_NAME), audio_metadata_dir, GUNSHOT_DIR)"
   ]
  },
  {
   "cell_type": "code",
   "execution_count": 40,
   "id": "5f88d0db",
   "metadata": {},
   "outputs": [
    {
     "data": {
      "application/vnd.jupyter.widget-view+json": {
       "model_id": "cb8e6daa858d4c25bab1f6fbf6f83e5f",
       "version_major": 2,
       "version_minor": 0
      },
      "text/plain": [
       "BGG_dataset.zip: 0.00B [00:00, ?B/s]"
      ]
     },
     "metadata": {},
     "output_type": "display_data"
    },
    {
     "name": "stdout",
     "output_type": "stream",
     "text": [
      "✅ Download complete\n"
     ]
    }
   ],
   "source": [
    "URL = \"https://github.com/junwoopark92/PUBG-Gun-Sound-Dataset/archive/main.zip\"\n",
    "ARCHIVE = \"BGG_dataset.zip\"\n",
    "\n",
    "def download_with_progress(url, out_path):\n",
    "    resp = requests.get(url, stream=True)\n",
    "    total = int(resp.headers.get(\"content-length\", 0))\n",
    "    with open(out_path, \"wb\") as f, tqdm(total=total, unit='B', unit_scale=True, desc=out_path) as p:\n",
    "        for chunk in resp.iter_content(1024):\n",
    "            f.write(chunk)\n",
    "            p.update(len(chunk))\n",
    "\n",
    "if not Path(ARCHIVE).exists():\n",
    "    download_with_progress(URL, ARCHIVE)\n",
    "    print(\"✅ Download complete\")\n",
    "else:\n",
    "    print(\"Archive already exists\")"
   ]
  }
 ],
 "metadata": {
  "kernelspec": {
   "display_name": ".venv",
   "language": "python",
   "name": "python3"
  },
  "language_info": {
   "codemirror_mode": {
    "name": "ipython",
    "version": 3
   },
   "file_extension": ".py",
   "mimetype": "text/x-python",
   "name": "python",
   "nbconvert_exporter": "python",
   "pygments_lexer": "ipython3",
   "version": "3.11.4"
  }
 },
 "nbformat": 4,
 "nbformat_minor": 5
}
